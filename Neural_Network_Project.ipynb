{
  "nbformat": 4,
  "nbformat_minor": 0,
  "metadata": {
    "colab": {
      "provenance": [],
      "authorship_tag": "ABX9TyPn++QxyGwnUtnjMO1VBe+r",
      "include_colab_link": true
    },
    "kernelspec": {
      "name": "python3",
      "display_name": "Python 3"
    },
    "language_info": {
      "name": "python"
    },
    "gpuClass": "standard"
  },
  "cells": [
    {
      "cell_type": "markdown",
      "metadata": {
        "id": "view-in-github",
        "colab_type": "text"
      },
      "source": [
        "<a href=\"https://colab.research.google.com/github/SirNiksALot/Neural_networks_from_scratch/blob/main/Neural_Network_Project.ipynb\" target=\"_parent\"><img src=\"https://colab.research.google.com/assets/colab-badge.svg\" alt=\"Open In Colab\"/></a>"
      ]
    },
    {
      "cell_type": "code",
      "execution_count": null,
      "metadata": {
        "colab": {
          "base_uri": "https://localhost:8080/"
        },
        "id": "dJDMlEWNr3Bd",
        "outputId": "3547370c-411b-4efa-bae5-31ffc4e14b5d"
      },
      "outputs": [
        {
          "output_type": "stream",
          "name": "stdout",
          "text": [
            "42000\n",
            "785\n",
            "(1000,)\n",
            "(784, 1000)\n",
            "(41000,)\n",
            "(784, 41000)\n"
          ]
        }
      ],
      "source": [
        "import pandas as pd\n",
        "import numpy as np\n",
        "import matplotlib.pyplot as plt\n",
        "Dataset=pd.read_csv(\"train.csv\")\n",
        "data=np.array(Dataset)\n",
        "m,n=data.shape\n",
        "np.random.shuffle(data)\n",
        "print(m)\n",
        "print(n)\n",
        "\n",
        "test=data[0:1000].T\n",
        "y_test=test[0]\n",
        "x_test=test[1:n]\n",
        "x_test=x_test/255.\n",
        "\n",
        "train=data[1000:m].T\n",
        "y_train=train[0]\n",
        "x_train=train[1:n]\n",
        "x_train=x_train/255.\n",
        "\n",
        "print(y_test.shape)\n",
        "print(x_test.shape)\n",
        "print(y_train.shape)\n",
        "print(x_train.shape)\n"
      ]
    },
    {
      "cell_type": "code",
      "source": [
        "def initialize_parameters():\n",
        "  w1=np.random.rand(10,784)-0.5\n",
        "  b1=np.random.rand(10,1)-0.5\n",
        "  w2=np.random.rand(10,10)-0.5\n",
        "  b2=np.random.rand(10,1)-0.5\n",
        "  w3=np.random.rand(10,10)-0.5\n",
        "  b3=np.random.rand(10,1)-0.5\n",
        "  w4=np.random.rand(10,10)-0.5\n",
        "  b4=np.random.rand(10,1)-0.5\n",
        "\n",
        "  return w1, b1, w2, b2, w3, b3, w4, b4\n",
        "\n",
        "def ReLU(Z):\n",
        "  return np.maximum(Z,0)\n",
        "\n",
        "def softmax(Z):\n",
        "    A = np.exp(Z) / sum(np.exp(Z))\n",
        "    return A\n",
        "\n",
        "def forward_prop( X, w1, b1, w2, b2, w3, b3, w4, b4):\n",
        "  Z1=w1.dot(X) + b1\n",
        "  A1=ReLU(Z1)\n",
        "  Z2=w2.dot(A1) + b2\n",
        "  A2=ReLU(Z2)\n",
        "  Z3=w3.dot(A2) + b3\n",
        "  A3=ReLU(Z3)\n",
        "  Z4=w4.dot(A3) + b4\n",
        "  A4=softmax(Z4)\n",
        "  return Z1, A1, Z2, A2, Z3, A3, Z4, A4\n",
        "\n",
        "def derivative_reLU(Z):\n",
        "  return Z > 0\n",
        "\n",
        "def one_hot(Y):\n",
        "   one_hot_Y = np.zeros((Y.size, Y.max() + 1))\n",
        "   one_hot_Y[np.arange(Y.size), Y] = 1\n",
        "   one_hot_Y = one_hot_Y.T\n",
        "   return one_hot_Y\n",
        "\n",
        "def back_propogation(X, Y, w1, b1, w2, b2, w3, b3, w4, b4, Z1, A1, Z2, A2, Z3, A3, Z4, A4):\n",
        "\n",
        "  Y_encoded=one_hot(Y) #we one hot encode the labels of these digits into Y_encode\n",
        "  dZ4 = A4 - Y_encoded\n",
        "  c_w4 = 1/m * dZ4.dot(A3.T) \n",
        "  c_b4 = 1/m * np.sum(dZ4)  #adds up all the elements and squishes them into a vector for gradient descent and then updation of bias\n",
        "\n",
        "  dZ3 = (w4.T).dot(dZ4) * derivative_reLU(Z3)\n",
        "  c_w3 = 1/m * dZ3.dot(A2.T) \n",
        "  c_b3 = 1/m * np.sum(dZ3) \n",
        "\n",
        "  dZ2 = (w3.T).dot(dZ3) * derivative_reLU(Z2)\n",
        "  c_w2 = 1/m * dZ2.dot(A1.T) \n",
        "  c_b2 = 1/m * np.sum(dZ2) \n",
        "\n",
        "  dZ1 = (w2.T).dot(dZ2) * derivative_reLU(Z1)\n",
        "  c_w1 = 1/m * dZ1.dot(X.T) \n",
        "  c_b1 = 1/m * np.sum(dZ1) \n",
        "\n",
        "  return c_w1, c_b1, c_w2, c_b2, c_w3, c_b3, c_w4, c_b4\n",
        "  \n",
        "def update_parameters(c_w1, c_b1, c_w2, c_b2, c_w3, c_b3, c_w4, c_b4, w1, b1, w2, b2, w3, b3, w4, b4, a):\n",
        "  w1 =w1 - a * c_w1\n",
        "  b1 =b1 - a * c_b1\n",
        "  w2 =w2 - a * c_w2\n",
        "  b2 =b2 - a * c_b2\n",
        "  w3 =w3 - a * c_w3\n",
        "  b3 =b3 - a * c_b3\n",
        "  w4 =w4 - a * c_w4\n",
        "  b4 =b4 - a * c_b4\n",
        "  \n",
        "  return w1, b1, w2, b2, w3, b3, w4, b4"
      ],
      "metadata": {
        "id": "H0PkbBnISR3A"
      },
      "execution_count": null,
      "outputs": []
    },
    {
      "cell_type": "code",
      "source": [
        "def get_predictions(A2):\n",
        "    return np.argmax(A2, 0)\n",
        "\n",
        "def get_accuracy(predictions, Y):\n",
        "    print(predictions, Y)\n",
        "    return np.sum(predictions == Y) / Y.size\n",
        "\n",
        "def train_model( X, Y, n, a):\n",
        "  w1, b1, w2, b2, w3, b3, w4, b4 = initialize_parameters()\n",
        "  for i in range(0,n):\n",
        "    Z1, A1, Z2, A2, Z3, A3, Z4, A4 = forward_prop( X, w1, b1, w2, b2, w3, b3, w4, b4)\n",
        "    c_w1, c_b1, c_w2, c_b2, c_w3, c_b3, c_w4, c_b4 = back_propogation( X, Y, w1, b1, w2, b2, w3, b3, w4, b4, Z1, A1, Z2, A2, Z3, A3, Z4, A4)\n",
        "    w1, b1, w2, b2, w3, b3, w4, b4 = update_parameters(c_w1, c_b1, c_w2, c_b2, c_w3, c_b3, c_w4, c_b4, w1, b1, w2, b2, w3, b3, w4, b4, a)\n",
        "    if i%10==0:\n",
        "      print(\"iteration:\",i)      \n",
        "      predictions=get_predictions(A4)       \n",
        "      print(get_accuracy(predictions,Y))        \n",
        "  return  w1, b1, w2, b2, w3, b3, w4, b4"
      ],
      "metadata": {
        "id": "Q3PFg2F_SK5j"
      },
      "execution_count": null,
      "outputs": []
    },
    {
      "cell_type": "code",
      "source": [
        "W1, B1, W2, B2, W3, B3, W4, B4 = train_model( x_train, y_train , 500 , 0.45)"
      ],
      "metadata": {
        "colab": {
          "base_uri": "https://localhost:8080/"
        },
        "id": "ipXTyQIhd6OT",
        "outputId": "6c3d74c9-42f8-404f-c473-923becc20054"
      },
      "execution_count": null,
      "outputs": [
        {
          "output_type": "stream",
          "name": "stdout",
          "text": [
            "iteration: 0\n",
            "[3 3 3 ... 4 3 3] [9 3 0 ... 6 6 4]\n",
            "0.117\n",
            "iteration: 10\n",
            "[8 8 7 ... 0 8 3] [9 3 0 ... 6 6 4]\n",
            "0.21314634146341463\n",
            "iteration: 20\n",
            "[0 0 0 ... 0 1 4] [9 3 0 ... 6 6 4]\n",
            "0.2251219512195122\n",
            "iteration: 30\n",
            "[8 8 7 ... 0 1 4] [9 3 0 ... 6 6 4]\n",
            "0.24504878048780487\n",
            "iteration: 40\n",
            "[4 8 0 ... 0 1 4] [9 3 0 ... 6 6 4]\n",
            "0.36741463414634146\n",
            "iteration: 50\n",
            "[4 4 0 ... 0 3 4] [9 3 0 ... 6 6 4]\n",
            "0.2719756097560976\n",
            "iteration: 60\n",
            "[9 8 0 ... 0 1 4] [9 3 0 ... 6 6 4]\n",
            "0.503609756097561\n",
            "iteration: 70\n",
            "[7 3 0 ... 0 6 7] [9 3 0 ... 6 6 4]\n",
            "0.47609756097560973\n",
            "iteration: 80\n",
            "[9 8 0 ... 0 3 4] [9 3 0 ... 6 6 4]\n",
            "0.644390243902439\n",
            "iteration: 90\n",
            "[4 8 0 ... 0 3 4] [9 3 0 ... 6 6 4]\n",
            "0.6873658536585366\n",
            "iteration: 100\n",
            "[9 8 0 ... 0 3 4] [9 3 0 ... 6 6 4]\n",
            "0.6942439024390243\n",
            "iteration: 110\n",
            "[9 8 0 ... 5 3 9] [9 3 0 ... 6 6 4]\n",
            "0.6866341463414635\n",
            "iteration: 120\n",
            "[9 3 0 ... 5 3 9] [9 3 0 ... 6 6 4]\n",
            "0.6968780487804878\n",
            "iteration: 130\n",
            "[9 3 0 ... 0 6 9] [9 3 0 ... 6 6 4]\n",
            "0.7028780487804878\n",
            "iteration: 140\n",
            "[9 3 0 ... 0 6 9] [9 3 0 ... 6 6 4]\n",
            "0.742390243902439\n",
            "iteration: 150\n",
            "[9 3 0 ... 0 6 9] [9 3 0 ... 6 6 4]\n",
            "0.7535609756097561\n",
            "iteration: 160\n",
            "[9 3 0 ... 5 6 9] [9 3 0 ... 6 6 4]\n",
            "0.7747073170731708\n",
            "iteration: 170\n",
            "[9 3 0 ... 5 6 4] [9 3 0 ... 6 6 4]\n",
            "0.7882682926829269\n",
            "iteration: 180\n",
            "[9 3 0 ... 0 6 4] [9 3 0 ... 6 6 4]\n",
            "0.7613170731707317\n",
            "iteration: 190\n",
            "[9 3 0 ... 0 6 4] [9 3 0 ... 6 6 4]\n",
            "0.81\n",
            "iteration: 200\n",
            "[9 3 0 ... 5 6 4] [9 3 0 ... 6 6 4]\n",
            "0.795\n",
            "iteration: 210\n",
            "[9 3 0 ... 5 6 4] [9 3 0 ... 6 6 4]\n",
            "0.8035365853658537\n",
            "iteration: 220\n",
            "[9 3 0 ... 6 6 4] [9 3 0 ... 6 6 4]\n",
            "0.8001219512195122\n",
            "iteration: 230\n",
            "[9 3 0 ... 5 6 4] [9 3 0 ... 6 6 4]\n",
            "0.8315853658536585\n",
            "iteration: 240\n",
            "[9 3 0 ... 5 6 4] [9 3 0 ... 6 6 4]\n",
            "0.8134146341463414\n",
            "iteration: 250\n",
            "[9 3 0 ... 5 6 4] [9 3 0 ... 6 6 4]\n",
            "0.8365609756097561\n",
            "iteration: 260\n",
            "[9 3 0 ... 5 6 4] [9 3 0 ... 6 6 4]\n",
            "0.8403414634146341\n",
            "iteration: 270\n",
            "[9 3 0 ... 5 6 9] [9 3 0 ... 6 6 4]\n",
            "0.8182682926829268\n",
            "iteration: 280\n",
            "[9 3 0 ... 6 6 9] [9 3 0 ... 6 6 4]\n",
            "0.845609756097561\n",
            "iteration: 290\n",
            "[9 3 0 ... 6 6 9] [9 3 0 ... 6 6 4]\n",
            "0.8420731707317073\n",
            "iteration: 300\n",
            "[9 3 0 ... 6 6 9] [9 3 0 ... 6 6 4]\n",
            "0.8545121951219512\n",
            "iteration: 310\n",
            "[9 3 0 ... 6 6 9] [9 3 0 ... 6 6 4]\n",
            "0.8570975609756097\n",
            "iteration: 320\n",
            "[9 3 0 ... 6 6 9] [9 3 0 ... 6 6 4]\n",
            "0.8534146341463414\n",
            "iteration: 330\n",
            "[9 3 0 ... 6 6 4] [9 3 0 ... 6 6 4]\n",
            "0.8564146341463414\n",
            "iteration: 340\n",
            "[9 3 0 ... 6 6 4] [9 3 0 ... 6 6 4]\n",
            "0.8621463414634146\n",
            "iteration: 350\n",
            "[9 3 0 ... 6 6 4] [9 3 0 ... 6 6 4]\n",
            "0.8634634146341463\n",
            "iteration: 360\n",
            "[9 3 0 ... 6 6 4] [9 3 0 ... 6 6 4]\n",
            "0.8625121951219512\n",
            "iteration: 370\n",
            "[9 3 0 ... 6 6 9] [9 3 0 ... 6 6 4]\n",
            "0.864\n",
            "iteration: 380\n",
            "[9 3 0 ... 6 6 9] [9 3 0 ... 6 6 4]\n",
            "0.863390243902439\n",
            "iteration: 390\n",
            "[9 3 0 ... 6 6 9] [9 3 0 ... 6 6 4]\n",
            "0.8632195121951219\n",
            "iteration: 400\n",
            "[9 3 0 ... 6 6 9] [9 3 0 ... 6 6 4]\n",
            "0.8677073170731707\n",
            "iteration: 410\n",
            "[9 3 0 ... 6 6 9] [9 3 0 ... 6 6 4]\n",
            "0.8721951219512195\n",
            "iteration: 420\n",
            "[9 3 0 ... 6 6 9] [9 3 0 ... 6 6 4]\n",
            "0.873609756097561\n",
            "iteration: 430\n",
            "[9 3 0 ... 6 6 9] [9 3 0 ... 6 6 4]\n",
            "0.8729268292682927\n",
            "iteration: 440\n",
            "[9 3 0 ... 6 6 9] [9 3 0 ... 6 6 4]\n",
            "0.8740731707317073\n",
            "iteration: 450\n",
            "[9 3 0 ... 6 6 4] [9 3 0 ... 6 6 4]\n",
            "0.8737317073170732\n",
            "iteration: 460\n",
            "[9 3 0 ... 6 6 4] [9 3 0 ... 6 6 4]\n",
            "0.8721219512195122\n",
            "iteration: 470\n",
            "[9 3 0 ... 6 6 4] [9 3 0 ... 6 6 4]\n",
            "0.8834878048780488\n",
            "iteration: 480\n",
            "[9 3 0 ... 6 6 4] [9 3 0 ... 6 6 4]\n",
            "0.8800243902439024\n",
            "iteration: 490\n",
            "[9 3 0 ... 6 6 4] [9 3 0 ... 6 6 4]\n",
            "0.879390243902439\n"
          ]
        }
      ]
    },
    {
      "cell_type": "code",
      "source": [
        "def make_predictions( X, w1, b1, w2, b2, w3, b3, w4, b4):\n",
        "    _, _, _, _, _, _, _, A4 =forward_prop( X, w1, b1, w2, b2, w3, b3, w4, b4)\n",
        "    predictions = get_predictions(A4)\n",
        "    return predictions\n",
        "\n",
        "def test_prediction(index,  w1, b1, w2, b2, w3, b3, w4, b4):\n",
        "    current_image = x_test[:, index, None]\n",
        "    prediction = make_predictions(x_test[:, index, None],  w1, b1, w2, b2, w3, b3, w4, b4 )\n",
        "    label = y_test[index]\n",
        "    print(\"Prediction: \", prediction)\n",
        "    print(\"Label: \", label)\n",
        "    \n",
        "    current_image = current_image.reshape((28, 28)) * 255\n",
        "    plt.gray()\n",
        "    plt.imshow(current_image, interpolation='nearest')\n",
        "    plt.show()"
      ],
      "metadata": {
        "id": "L6dHWXfVuoxW"
      },
      "execution_count": null,
      "outputs": []
    },
    {
      "cell_type": "code",
      "source": [
        "test_prediction(0, W1, B1, W2, B2, W3, B3, W4, B4)\n",
        "test_prediction(1, W1, B1, W2, B2, W3, B3, W4, B4)\n",
        "test_prediction(2, W1, B1, W2, B2, W3, B3, W4, B4)\n",
        "test_prediction(3, W1, B1, W2, B2, W3, B3, W4, B4)\n",
        "test_prediction(4, W1, B1, W2, B2, W3, B3, W4, B4)\n",
        "test_prediction(5, W1, B1, W2, B2, W3, B3, W4, B4)\n",
        "test_prediction(6, W1, B1, W2, B2, W3, B3, W4, B4)\n",
        "test_prediction(7, W1, B1, W2, B2, W3, B3, W4, B4)"
      ],
      "metadata": {
        "colab": {
          "base_uri": "https://localhost:8080/",
          "height": 1000
        },
        "id": "LdZl4CHvvZpY",
        "outputId": "1d881313-5f7f-449f-de4a-05a9eabd2c5c"
      },
      "execution_count": null,
      "outputs": [
        {
          "output_type": "stream",
          "name": "stdout",
          "text": [
            "Prediction:  [3]\n",
            "Label:  3\n"
          ]
        },
        {
          "output_type": "display_data",
          "data": {
            "text/plain": [
              "<Figure size 432x288 with 1 Axes>"
            ],
            "image/png": "[encoded data removed]"
          },
          "metadata": {
            "needs_background": "light"
          }
        },
        {
          "output_type": "stream",
          "name": "stdout",
          "text": [
            "Prediction:  [3]\n",
            "Label:  3\n"
          ]
        },
        {
          "output_type": "display_data",
          "data": {
            "text/plain": [
              "<Figure size 432x288 with 1 Axes>"
            ],
            "image/png": "[encoded data removed]"
          },
          "metadata": {
            "needs_background": "light"
          }
        },
        {
          "output_type": "stream",
          "name": "stdout",
          "text": [
            "Prediction:  [9]\n",
            "Label:  9\n"
          ]
        },
        {
          "output_type": "display_data",
          "data": {
            "text/plain": [
              "<Figure size 432x288 with 1 Axes>"
            ],
            "image/png": "[encoded data removed]"
          },
          "metadata": {
            "needs_background": "light"
          }
        },
        {
          "output_type": "stream",
          "name": "stdout",
          "text": [
            "Prediction:  [1]\n",
            "Label:  1\n"
          ]
        },
        {
          "output_type": "display_data",
          "data": {
            "text/plain": [
              "<Figure size 432x288 with 1 Axes>"
            ],
            "image/png": "[encoded data removed]"
          },
          "metadata": {
            "needs_background": "light"
          }
        },
        {
          "output_type": "stream",
          "name": "stdout",
          "text": [
            "Prediction:  [4]\n",
            "Label:  4\n"
          ]
        },
        {
          "output_type": "display_data",
          "data": {
            "text/plain": [
              "<Figure size 432x288 with 1 Axes>"
            ],
            "image/png": "[encoded data removed]"
          },
          "metadata": {
            "needs_background": "light"
          }
        },
        {
          "output_type": "stream",
          "name": "stdout",
          "text": [
            "Prediction:  [9]\n",
            "Label:  9\n"
          ]
        },
        {
          "output_type": "display_data",
          "data": {
            "text/plain": [
              "<Figure size 432x288 with 1 Axes>"
            ],
            "image/png": "[encoded data removed]"
          },
          "metadata": {
            "needs_background": "light"
          }
        },
        {
          "output_type": "stream",
          "name": "stdout",
          "text": [
            "Prediction:  [3]\n",
            "Label:  2\n"
          ]
        },
        {
          "output_type": "display_data",
          "data": {
            "text/plain": [
              "<Figure size 432x288 with 1 Axes>"
            ],
            "image/png": "[encoded data removed]"
          },
          "metadata": {
            "needs_background": "light"
          }
        },
        {
          "output_type": "stream",
          "name": "stdout",
          "text": [
            "Prediction:  [8]\n",
            "Label:  0\n"
          ]
        },
        {
          "output_type": "display_data",
          "data": {
            "text/plain": [
              "<Figure size 432x288 with 1 Axes>"
            ],
            "image/png": "[encoded data removed]"
          },
          "metadata": {
            "needs_background": "light"
          }
        }
      ]
    }
  ]
}